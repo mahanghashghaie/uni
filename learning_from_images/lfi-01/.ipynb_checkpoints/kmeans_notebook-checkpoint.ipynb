{
 "cells": [
  {
   "cell_type": "code",
   "execution_count": 1,
   "metadata": {},
   "outputs": [],
   "source": [
    "import numpy as np\n",
    "import cv2\n",
    "import math\n",
    "import sys"
   ]
  },
  {
   "cell_type": "code",
   "execution_count": 2,
   "metadata": {},
   "outputs": [],
   "source": [
    "# implement distance metric - e.g. squared distances between pixels\n",
    "def distance(cluster_centroid, point):\n",
    "    #euclidean\n",
    "    return np.linalg.norm(point-cluster_centroid)\n",
    "\n",
    "    # YOUR CODE HERE\n"
   ]
  },
  {
   "cell_type": "code",
   "execution_count": 3,
   "metadata": {},
   "outputs": [],
   "source": [
    "# k-means works in 3 steps\n",
    "# 1. initialize\n",
    "# 2. assign each data element to current mean (cluster center)\n",
    "# 3. update mean\n",
    "# then iterate between 2 and 3 until convergence, i.e. until ~smaller than 5% change rate in the error\n",
    "\n",
    "def update_mean(img, clustermask, current_cluster_centers, cluster_dict):\n",
    "    \"\"\"This function should compute the new cluster center, i.e. numcluster mean colors\"\"\"\n",
    "    unique, counts = np.unique(clustermask, return_counts=True)\n",
    "    # stores the number of corresponding points belonging to each of the k clusters\n",
    "    cluster_count = dict(zip(unique, counts))\n",
    "    print(cluster_count)\n",
    "    for x in range(clustermask.shape[0]):\n",
    "        for y in range(clustermask.shape[1]):\n",
    "            cvalue = clustermask[x][y][0]\n",
    "            if cvalue not in cluster_dict:\n",
    "                cluster_dict[cvalue] = np.zeros(3)\n",
    "            else:\n",
    "                cluster_dict[cvalue] = np.add(cluster_dict[cvalue], img[x][y])\n",
    "    for i,c in enumerate(current_cluster_centers):\n",
    "        # divide sum of all points belonging to this cluster by their count ( mean )\n",
    "        current_cluster_centers[i] = cluster_dict[i] / cluster_count[i]\n",
    "    # YOUR CODE HERE\n",
    "    \n"
   ]
  },
  {
   "cell_type": "code",
   "execution_count": 4,
   "metadata": {},
   "outputs": [],
   "source": [
    "def assign_to_current_mean(img, result, clustermask, current_cluster_centers):\n",
    "    \"\"\"The function expects the img, the resulting image and a clustermask.\n",
    "    After each call the pixels in result should contain a cluster_color corresponding to the cluster\n",
    "    it is assigned to. clustermask contains the cluster id (int [0...num_clusters]\n",
    "    Return: the overall error (distance) for all pixels to there closest cluster center (mindistance px - cluster center).\n",
    "    \"\"\"\n",
    "    overall_dist = 0\n",
    "    for i in range(img.shape[0]):\n",
    "        for j in range(img.shape[1]):\n",
    "            distance_to_cluster =  sys.float_info.max\n",
    "            for index, cc in enumerate(current_cluster_centers):\n",
    "                d = distance(cc, img[i][j])\n",
    "                if d < distance_to_cluster:\n",
    "                    distance_to_cluster = d\n",
    "                    result[i][j] = cc\n",
    "                    clustermask[i][j] = index\n",
    "            overall_dist += distance_to_cluster\n",
    "    return overall_dist\n",
    "\n",
    "\n"
   ]
  },
  {
   "cell_type": "code",
   "execution_count": 5,
   "metadata": {},
   "outputs": [],
   "source": [
    "def initialize(img, k, current_cluster_centers):\n",
    "    \"\"\"inittialize the current_cluster_centers array for each cluster with a random pixel position\"\"\"\n",
    "    # YOUR CODE HERE\n",
    "    index_x = np.random.choice(img.shape[0], k, replace=False)\n",
    "    index_y = np.random.choice(img.shape[1], k, replace=False)\n",
    "    \n",
    "    for i in range(k):\n",
    "        current_cluster_centers[i][0] = img[index_x[i]][index_y[i]]\n",
    "\n",
    "\n",
    "    \n"
   ]
  },
  {
   "cell_type": "code",
   "execution_count": 6,
   "metadata": {},
   "outputs": [],
   "source": [
    "def kmeans(img, k):\n",
    "    \"\"\"Main k-means function iterating over max_iterations and stopping if\n",
    "    the error rate of change is less then 2% for consecutive iterations, i.e. the\n",
    "    algorithm converges. In our case the overall error might go up and down a little\n",
    "    since there is no guarantee we find a global minimum.\n",
    "    \"\"\"\n",
    "    max_iter = 10\n",
    "    max_change_rate = 0.02\n",
    "    dist = sys.float_info.max\n",
    "    h1,w1 = img.shape[:2]\n",
    "    current_cluster_centers = np.zeros((k, 1, 3), np.float32)\n",
    "    \n",
    "    clustermask = np.zeros((h1, w1, 1), np.uint8)\n",
    "    result = np.zeros((h1, w1, 3), np.uint8)\n",
    "    \n",
    "    initialize(img,k,current_cluster_centers)\n",
    "    print(\"Selected k is: {}\".format(k))\n",
    "    for i in range(max_iter):\n",
    "        overall_dist = assign_to_current_mean(img, result, clustermask, current_cluster_centers)\n",
    "        difference_in_dist = np.abs(overall_dist - dist)\n",
    "        distance_avg = (overall_dist + dist) / 2\n",
    "        diff_dist_percent = difference_in_dist / distance_avg\n",
    "        print(diff_dist_percent)\n",
    "        if diff_dist_percent < max_change_rate:\n",
    "            return result\n",
    "        cluster_dict = {}\n",
    "        update_mean(img, clustermask, current_cluster_centers, cluster_dict)\n",
    "        dist = overall_dist\n",
    "    \n",
    "    # initializes each pixel to a cluster\n",
    "    # iterate for a given number of iterations or if rate of change is\n",
    "    # very small\n",
    "    # YOUR CODE HERE\n",
    "\n",
    "    return result\n"
   ]
  },
  {
   "cell_type": "code",
   "execution_count": 7,
   "metadata": {},
   "outputs": [],
   "source": [
    "def get_images(img_location):\n",
    "    imgraw = cv2.imread(img_location)\n",
    "    scaling_factor = 0.5\n",
    "    imgraw_scaled = cv2.resize(imgraw, None, fx=scaling_factor, fy=scaling_factor, interpolation=cv2.INTER_AREA)\n",
    "    return imgraw, imgraw_scaled\n",
    "ia, ias = get_images('./Lenna.png')"
   ]
  },
  {
   "cell_type": "code",
   "execution_count": 10,
   "metadata": {},
   "outputs": [
    {
     "name": "stdout",
     "output_type": "stream",
     "text": [
      "2.0\n",
      "{0: 9223, 1: 16113, 2: 14910, 3: 25290}\n",
      "0.28300359147746457\n",
      "{0: 9442, 1: 15224, 2: 16315, 3: 24555}\n",
      "0.01496119027661079\n"
     ]
    }
   ],
   "source": [
    "result = kmeans(ias,4)"
   ]
  },
  {
   "cell_type": "code",
   "execution_count": 32,
   "metadata": {},
   "outputs": [],
   "source": [
    "result_lab = cv2.cvtColor(result, cv2.COLOR_BGR2Lab)\n",
    "result_hsv = cv2.cvtColor(result, cv2.COLOR_BGR2HSV)\n",
    "result_luv = cv2.cvtColor(result, cv2.COLOR_BGR2Luv)\n",
    "result_rgb = cv2.cvtColor(result, cv2.COLOR_BGR2RGB)\n"
   ]
  },
  {
   "cell_type": "code",
   "execution_count": null,
   "metadata": {},
   "outputs": [],
   "source": []
  },
  {
   "cell_type": "code",
   "execution_count": 33,
   "metadata": {},
   "outputs": [],
   "source": [
    "h1, w1 = result.shape[:2]\n",
    "h2, w2 = ias.shape[:2]\n",
    "vis = np.zeros((max(h1, h2) * 2, w1 * 3, 3), np.uint8)\n",
    "vis[:h1, :w1] = result\n",
    "vis[:h2, w1:w1 + w2] = ias\n",
    "vis[h1:, :w1] = result_lab\n",
    "vis[h2:, w1:w1 + w2] = result_hsv\n",
    "vis[:h1, w1*2:w1*3] = result_luv\n",
    "vis[h2:, w1*2:w1*3] = result_rgb\n",
    "cv2.imshow(\"Color-based Segmentation Kmeans-Clustering\", vis)\n",
    "cv2.waitKey(0)\n",
    "cv2.destroyAllWindows()\n"
   ]
  },
  {
   "cell_type": "code",
   "execution_count": 36,
   "metadata": {},
   "outputs": [
    {
     "data": {
      "text/plain": [
       "array([[[211, 123, 115],\n",
       "        [211, 123, 115],\n",
       "        [211, 123, 115],\n",
       "        ...,\n",
       "        [211, 123, 115],\n",
       "        [211, 123, 115],\n",
       "        [211, 123, 115]],\n",
       "\n",
       "       [[211, 123, 115],\n",
       "        [211, 123, 115],\n",
       "        [211, 123, 115],\n",
       "        ...,\n",
       "        [211, 123, 115],\n",
       "        [211, 123, 115],\n",
       "        [211, 123, 115]],\n",
       "\n",
       "       [[211, 123, 115],\n",
       "        [211, 123, 115],\n",
       "        [211, 123, 115],\n",
       "        ...,\n",
       "        [211, 123, 115],\n",
       "        [211, 123, 115],\n",
       "        [175,  75,  88]],\n",
       "\n",
       "       ...,\n",
       "\n",
       "       [[104,  31,  71],\n",
       "        [104,  31,  71],\n",
       "        [104,  31,  71],\n",
       "        ...,\n",
       "        [104,  31,  71],\n",
       "        [175,  75,  88],\n",
       "        [175,  75,  88]],\n",
       "\n",
       "       [[104,  31,  71],\n",
       "        [104,  31,  71],\n",
       "        [104,  31,  71],\n",
       "        ...,\n",
       "        [175,  75,  88],\n",
       "        [175,  75,  88],\n",
       "        [175,  75,  88]],\n",
       "\n",
       "       [[104,  31,  71],\n",
       "        [104,  31,  71],\n",
       "        [104,  31,  71],\n",
       "        ...,\n",
       "        [175,  75,  88],\n",
       "        [175,  75,  88],\n",
       "        [175,  75,  88]]], dtype=uint8)"
      ]
     },
     "execution_count": 36,
     "metadata": {},
     "output_type": "execute_result"
    }
   ],
   "source": []
  },
  {
   "cell_type": "code",
   "execution_count": null,
   "metadata": {},
   "outputs": [],
   "source": [
    "k = 5\n",
    "current_cluster_centers = np.zeros((k, 1, 3), np.float32)\n",
    "\n",
    "\n",
    "initialize(ia,k)\n",
    "h1,w1 = ia.shape[:2]\n",
    "\n",
    "clustermask = np.zeros((h1, w1, 1), np.uint8)\n",
    "result = np.zeros((h1, w1, 3), np.uint8)\n",
    "\n",
    "cluster_dict = {}\n",
    "overall_dist = assign_to_current_mean(ia, result, clustermask, current_cluster_centers)\n",
    "\n",
    "print(current_cluster_centers)\n",
    "update_mean(ia, clustermask, current_cluster_centers,cluster_dict)\n",
    "print(current_cluster_centers)\n",
    "print(cluster_dict)\n",
    "#print(ia[1][1])\n",
    "#print(\"---------------------\")\n",
    "#print(ia[11][11])\n",
    "#abc = np.zeros(3)\n",
    "#print(abc + ia[1][1]+ ia[11][11])\n",
    "#ones = np.where(clustermask == 4)"
   ]
  },
  {
   "cell_type": "code",
   "execution_count": null,
   "metadata": {},
   "outputs": [],
   "source": [
    "\n",
    "# num of cluster\n",
    "numclusters = 3\n",
    "# corresponding colors for each cluster\n",
    "cluster_colors = [[255, 0, 0], [0, 255, 0], [0, 0, 255], [0, 255, 255], [255, 255, 255], [0, 0, 0], [128, 128, 128]]\n",
    "# initialize current cluster centers (i.e. the pixels that represent a cluster center)\n",
    "current_cluster_centers = np.zeros((numclusters, 1, 3), np.float32)\n",
    "\n",
    "# load image\n",
    "imgraw = cv2.imread('./Lenna.png')\n",
    "scaling_factor = 0.5\n",
    "imgraw = cv2.resize(imgraw, None, fx=scaling_factor, fy=scaling_factor, interpolation=cv2.INTER_AREA)\n",
    "\n",
    "# compare different color spaces and their result for clustering\n",
    "# YOUR CODE HERE or keep going with loaded RGB colorspace img = imgraw\n",
    "image = imgraw\n",
    "h1, w1 = image.shape[:2]\n",
    "\n",
    "# execute k-means over the image\n",
    "# it returns a result image where each pixel is color with one of the cluster_colors\n",
    "# depending on its cluster assignment\n",
    "res = kmeans(image)\n",
    "\n",
    "h1, w1 = res.shape[:2]\n",
    "h2, w2 = image.shape[:2]\n",
    "vis = np.zeros((max(h1, h2), w1 + w2, 3), np.uint8)\n",
    "vis[:h1, :w1] = res\n",
    "vis[:h2, w1:w1 + w2] = image\n",
    "\n",
    "cv2.imshow(\"Color-based Segmentation Kmeans-Clustering\", vis)\n",
    "cv2.waitKey(0)\n",
    "cv2.destroyAllWindows()\n"
   ]
  },
  {
   "cell_type": "code",
   "execution_count": null,
   "metadata": {},
   "outputs": [],
   "source": [
    "np.abs(5-15)"
   ]
  }
 ],
 "metadata": {
  "kernelspec": {
   "display_name": "Python 3",
   "language": "python",
   "name": "python3"
  },
  "language_info": {
   "codemirror_mode": {
    "name": "ipython",
    "version": 3
   },
   "file_extension": ".py",
   "mimetype": "text/x-python",
   "name": "python",
   "nbconvert_exporter": "python",
   "pygments_lexer": "ipython3",
   "version": "3.7.4"
  }
 },
 "nbformat": 4,
 "nbformat_minor": 2
}
