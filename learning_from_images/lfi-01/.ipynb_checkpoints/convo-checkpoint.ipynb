{
 "cells": [
  {
   "cell_type": "code",
   "execution_count": 1,
   "metadata": {},
   "outputs": [],
   "source": [
    "import numpy as np\n",
    "import cv2\n",
    "\n"
   ]
  },
  {
   "cell_type": "code",
   "execution_count": 2,
   "metadata": {},
   "outputs": [],
   "source": [
    "def im2double(im):\n",
    "    \"\"\"\n",
    "    Converts uint image (0-255) to double image (0.0-1.0) and generalizes\n",
    "    this concept to any range.\n",
    "\n",
    "    :param im:\n",
    "    :return: normalized image\n",
    "    \"\"\"\n",
    "    min_val = np.min(im.ravel())\n",
    "    max_val = np.max(im.ravel())\n",
    "    out = (im.astype('float') - min_val) / (max_val - min_val)\n",
    "    return out"
   ]
  },
  {
   "cell_type": "code",
   "execution_count": 23,
   "metadata": {},
   "outputs": [],
   "source": [
    "\n",
    "def make_gaussian(size, fwhm = 3, center=None):\n",
    "    \"\"\" Make a square gaussian kernel.\n",
    "\n",
    "    size is the length of a side of the square\n",
    "    fwhm is full-width-half-maximum, which\n",
    "    can be thought of as an effective radius.\n",
    "    \"\"\"\n",
    "\n",
    "    x = np.arange(0, size, 1, float)\n",
    "    y = x[:,np.newaxis]\n",
    "\n",
    "    if center is None:\n",
    "        x0 = y0 = size // 2\n",
    "    else:\n",
    "        x0 = center[0]\n",
    "        y0 = center[1]\n",
    "\n",
    "    k = np.exp(-4*np.log(2) * ((x-x0)**2 + (y-y0)**2) / fwhm**2)\n",
    "    return k / np.sum(k)\n"
   ]
  },
  {
   "cell_type": "code",
   "execution_count": 67,
   "metadata": {},
   "outputs": [],
   "source": [
    "\n",
    "\n",
    "def extract_pixel_area(img, x, y, offset):\n",
    "    return img[x-offset:x+offset+1,y-offset:y+offset+1]"
   ]
  },
  {
   "cell_type": "code",
   "execution_count": 65,
   "metadata": {},
   "outputs": [],
   "source": [
    "\n",
    "\n",
    "def convolution_2d(img, kernel):\n",
    "    \"\"\"\n",
    "    Computes the convolution between kernel and image\n",
    "\n",
    "    :param img: grayscale image\n",
    "    :param kernel: convolution matrix - 3x3, or 5x5 matrix\n",
    "    :return: result of the convolution\n",
    "    \"\"\"\n",
    "    # TODO write convolution of arbritrary sized convolution here\n",
    "    # Hint: you need the kernelsize\n",
    "\n",
    "    offset = int(kernel.shape[0]/2)\n",
    "    \n",
    "\n",
    "    x_new = img.shape[0]\n",
    "    y_new = img.shape[1]\n",
    "\n",
    "    #ymax = wmax + 2*tmid\n",
    "    # Allocate result image.\n",
    "    newimg = np.zeros([x_new,y_new],dtype=img.dtype)\n",
    "    norm_gray_img_padded = np.pad(img, offset, mode='edge')\n",
    "    # Do convolution\n",
    "    for x in range(offset,norm_gray_img_padded.shape[0] - offset * 2):\n",
    "        for y in range(offset, norm_gray_img_padded.shape[0] - offset * 2):\n",
    "\n",
    "            pixel_area = extract_pixel_area(norm_gray_img_padded,x,y,offset)\n",
    "            value = np.sum(np.multiply(pixel_area,kernel))\n",
    "            newimg[x, y] = value\n",
    "    # YOUR CODE HERE\n",
    "\n",
    "    return newimg"
   ]
  },
  {
   "cell_type": "code",
   "execution_count": 66,
   "metadata": {},
   "outputs": [],
   "source": [
    "if __name__ == \"__main__\":\n",
    "\n",
    "    # 1. load image in grayscale\n",
    "    # 2. convert image to 0-1 image (see im2double)\n",
    "    gray_img = cv2.imread(\"./Lenna.png\", cv2.IMREAD_GRAYSCALE)\n",
    "    norm_gray_img = im2double(gray_img)\n",
    "    \n",
    "    # image kernels\n",
    "    sobelmask_x = np.array([[-1, 0, 1], [-2, 0, 2], [-1, 0, 1]])\n",
    "    sobelmask_y = np.array([[1, 2, 1], [0, 0, 0], [-1, -2, -1]])\n",
    "    gk = make_gaussian(11)\n",
    "\n",
    "    # 3 .use image kernels on normalized image\n",
    "    sobel_x = convolution_2d(norm_gray_img, sobelmask_x)\n",
    "    sobel_y = convolution_2d(norm_gray_img, sobelmask_y)\n",
    "    mog = convolution_2d(norm_gray_img, gk)\n",
    "    # 4. compute magnitude of gradients\n",
    "    sqrtd = np.sqrt((sobel_x**2)+(sobel_y**2))\n",
    "    # Show resulting images\n",
    "    cv2.imshow(\"sobel_x\", sobel_x)\n",
    "    cv2.imshow(\"sobel_y\", sobel_y)\n",
    "    cv2.imshow(\"mog\", mog)\n",
    "    cv2.imshow(\"mag\", sqrtd)\n",
    "    cv2.waitKey(0)\n",
    "    cv2.destroyAllWindows()"
   ]
  }
 ],
 "metadata": {
  "kernelspec": {
   "display_name": "Python 3",
   "language": "python",
   "name": "python3"
  },
  "language_info": {
   "codemirror_mode": {
    "name": "ipython",
    "version": 3
   },
   "file_extension": ".py",
   "mimetype": "text/x-python",
   "name": "python",
   "nbconvert_exporter": "python",
   "pygments_lexer": "ipython3",
   "version": "3.7.4"
  }
 },
 "nbformat": 4,
 "nbformat_minor": 2
}
